{
 "cells": [
  {
   "cell_type": "code",
   "execution_count": 2,
   "metadata": {},
   "outputs": [],
   "source": [
    "import numpy as np\n",
    "from prep_terrain_data import makeTerrainData"
   ]
  },
  {
   "cell_type": "code",
   "execution_count": 3,
   "metadata": {},
   "outputs": [],
   "source": [
    "features_train, labels_train, features_test, labels_test = makeTerrainData()\n",
    "\n",
    "### the training data (features_train, labels_train) have both \"fast\" and \"slow\"\n",
    "### points mixed together--separate them so we can give them different colors\n",
    "### in the scatterplot and identify them visually\n",
    "grade_fast = [features_train[ii][0] for ii in range(0, len(features_train)) if labels_train[ii]==0]\n",
    "bumpy_fast = [features_train[ii][1] for ii in range(0, len(features_train)) if labels_train[ii]==0]\n",
    "grade_slow = [features_train[ii][0] for ii in range(0, len(features_train)) if labels_train[ii]==1]\n",
    "bumpy_slow = [features_train[ii][1] for ii in range(0, len(features_train)) if labels_train[ii]==1]"
   ]
  },
  {
   "cell_type": "code",
   "execution_count": 4,
   "metadata": {},
   "outputs": [],
   "source": [
    "###parameters\n",
    "\n",
    "n_estimators = [int(x) for x in np.linspace(start = 10, stop = 80, num = 10)]\n",
    "\n",
    "max_features = ['auto','sqrt']\n",
    "\n",
    "max_depth = [2,4]\n",
    "\n",
    "min_sample_split = [2,5]\n",
    "\n",
    "min_sample_leaf = [1,2]\n",
    "\n",
    "bootstrap = [True, False]\n",
    "\n",
    "#create parameter grid\n",
    "\n",
    "param_grid = {\n",
    "    'n_estimators' : n_estimators,\n",
    "\n",
    "    'max_features' : max_features,\n",
    "\n",
    "    'max_depth' : max_depth,\n",
    "\n",
    "    'min_samples_split' : min_sample_split,\n",
    "\n",
    "    'min_samples_leaf' : min_sample_leaf,\n",
    "\n",
    "    'bootstrap' : bootstrap\n",
    "}"
   ]
  },
  {
   "cell_type": "code",
   "execution_count": 5,
   "metadata": {},
   "outputs": [
    {
     "name": "stdout",
     "output_type": "stream",
     "text": [
      "Fitting 3 folds for each of 320 candidates, totalling 960 fits\n"
     ]
    },
    {
     "data": {
      "text/plain": [
       "GridSearchCV(cv=3, estimator=RandomForestClassifier(), n_jobs=4,\n",
       "             param_grid={'bootstrap': [True, False], 'max_depth': [2, 4],\n",
       "                         'max_features': ['auto', 'sqrt'],\n",
       "                         'min_samples_leaf': [1, 2],\n",
       "                         'min_samples_split': [2, 5],\n",
       "                         'n_estimators': [10, 17, 25, 33, 41, 48, 56, 64, 72,\n",
       "                                          80]},\n",
       "             verbose=2)"
      ]
     },
     "execution_count": 5,
     "metadata": {},
     "output_type": "execute_result"
    }
   ],
   "source": [
    "from sklearn.ensemble import RandomForestClassifier\n",
    "\n",
    "rf_model = RandomForestClassifier()\n",
    "\n",
    "from sklearn.model_selection import GridSearchCV\n",
    "\n",
    "rfGrid = GridSearchCV(estimator=rf_model,param_grid=param_grid, cv=3, verbose = 2, n_jobs=4)\n",
    "\n",
    "rfGrid.fit(features_train,labels_train)\n",
    "\n"
   ]
  },
  {
   "cell_type": "code",
   "execution_count": 6,
   "metadata": {},
   "outputs": [
    {
     "name": "stdout",
     "output_type": "stream",
     "text": [
      "{'bootstrap': False, 'max_depth': 4, 'max_features': 'sqrt', 'min_samples_leaf': 2, 'min_samples_split': 5, 'n_estimators': 72}\n",
      "0.9626666666666667\n",
      "0.924\n"
     ]
    }
   ],
   "source": [
    "print(rfGrid.best_params_)\n",
    "\n",
    "print(rfGrid.best_score_)\n",
    "print(rfGrid.score(features_test,labels_test))"
   ]
  },
  {
   "cell_type": "code",
   "execution_count": 12,
   "metadata": {},
   "outputs": [],
   "source": [
    "from sklearn.neighbors import KNeighborsClassifier\n",
    "\n",
    "rf_model = KNeighborsClassifier()\n",
    "\n",
    "param_grid = {\n",
    "\n",
    "    'n_neighbors' : [int(x) for x in range(2,20)],\n",
    "\n",
    "    'weights' : ['uniform', 'distance'],\n",
    "\n",
    "    'algorithm' : ['auto', 'ball_tree', 'kd_tree', 'brute'],\n",
    "\n",
    "    'leaf_size' :[int(x) for x in np.linspace(start = 10, stop = 50, num = 5)],\n",
    "\n",
    "    'p' : [1,2]\n",
    "\n",
    "}"
   ]
  },
  {
   "cell_type": "code",
   "execution_count": 13,
   "metadata": {},
   "outputs": [
    {
     "name": "stdout",
     "output_type": "stream",
     "text": [
      "Fitting 3 folds for each of 1440 candidates, totalling 4320 fits\n"
     ]
    },
    {
     "data": {
      "text/plain": [
       "GridSearchCV(cv=3, estimator=KNeighborsClassifier(), n_jobs=4,\n",
       "             param_grid={'algorithm': ['auto', 'ball_tree', 'kd_tree', 'brute'],\n",
       "                         'leaf_size': [10, 20, 30, 40, 50],\n",
       "                         'n_neighbors': [2, 3, 4, 5, 6, 7, 8, 9, 10, 11, 12, 13,\n",
       "                                         14, 15, 16, 17, 18, 19],\n",
       "                         'p': [1, 2], 'weights': ['uniform', 'distance']},\n",
       "             verbose=2)"
      ]
     },
     "execution_count": 13,
     "metadata": {},
     "output_type": "execute_result"
    }
   ],
   "source": [
    "from sklearn.model_selection import GridSearchCV\n",
    "\n",
    "rfGrid = GridSearchCV(estimator=rf_model,param_grid=param_grid, cv=3, verbose = 2, n_jobs=4)\n",
    "\n",
    "rfGrid.fit(features_train,labels_train)"
   ]
  },
  {
   "cell_type": "code",
   "execution_count": 14,
   "metadata": {},
   "outputs": [
    {
     "name": "stdout",
     "output_type": "stream",
     "text": [
      "{'algorithm': 'auto', 'leaf_size': 10, 'n_neighbors': 10, 'p': 1, 'weights': 'uniform'}\n",
      "0.9666666666666667\n",
      "0.94\n"
     ]
    }
   ],
   "source": [
    "print(rfGrid.best_params_)\n",
    "\n",
    "print(rfGrid.best_score_)\n",
    "print(rfGrid.score(features_test,labels_test))"
   ]
  },
  {
   "cell_type": "code",
   "execution_count": 15,
   "metadata": {},
   "outputs": [
    {
     "name": "stdout",
     "output_type": "stream",
     "text": [
      "Fitting 3 folds for each of 2304 candidates, totalling 6912 fits\n"
     ]
    },
    {
     "data": {
      "text/plain": [
       "GridSearchCV(cv=3, estimator=KNeighborsClassifier(), n_jobs=4,\n",
       "             param_grid={'algorithm': ['auto', 'ball_tree', 'kd_tree', 'brute'],\n",
       "                         'leaf_size': [2, 3, 4, 5, 6, 7, 8, 9],\n",
       "                         'n_neighbors': [2, 3, 4, 5, 6, 7, 8, 9, 10, 11, 12, 13,\n",
       "                                         14, 15, 16, 17, 18, 19],\n",
       "                         'p': [1, 2], 'weights': ['uniform', 'distance']},\n",
       "             verbose=2)"
      ]
     },
     "execution_count": 15,
     "metadata": {},
     "output_type": "execute_result"
    }
   ],
   "source": [
    "param_grid = {\n",
    "\n",
    "    'n_neighbors' : [int(x) for x in range(2,20)],\n",
    "\n",
    "    'weights' : ['uniform', 'distance'],\n",
    "\n",
    "    'algorithm' : ['auto', 'ball_tree', 'kd_tree', 'brute'],\n",
    "\n",
    "    'leaf_size' :[int(x) for x in range(2,10)],\n",
    "\n",
    "    'p' : [1,2]\n",
    "\n",
    "}\n",
    "\n",
    "rfGrid = GridSearchCV(estimator=rf_model,param_grid=param_grid, cv=3, verbose = 2, n_jobs=4)\n",
    "\n",
    "rfGrid.fit(features_train,labels_train)"
   ]
  },
  {
   "cell_type": "code",
   "execution_count": 16,
   "metadata": {},
   "outputs": [
    {
     "name": "stdout",
     "output_type": "stream",
     "text": [
      "{'algorithm': 'auto', 'leaf_size': 2, 'n_neighbors': 10, 'p': 1, 'weights': 'uniform'}\n",
      "0.9666666666666667\n",
      "0.94\n"
     ]
    }
   ],
   "source": [
    "print(rfGrid.best_params_)\n",
    "\n",
    "print(rfGrid.best_score_)\n",
    "print(rfGrid.score(features_test,labels_test))"
   ]
  },
  {
   "cell_type": "code",
   "execution_count": 20,
   "metadata": {},
   "outputs": [],
   "source": [
    "from sklearn.ensemble import AdaBoostClassifier\n",
    "\n",
    "rf_model = AdaBoostClassifier()"
   ]
  },
  {
   "cell_type": "code",
   "execution_count": 21,
   "metadata": {},
   "outputs": [],
   "source": [
    "param_grid = {\n",
    "\n",
    "    'n_estimators' : [30,50,70],\n",
    "\n",
    "    'learning_rate' : [int(x) for x in range(1,5)],\n",
    "\n",
    "    'algorithm' : ['SAMME', 'SAMME.R'],\n",
    "\n",
    "    'random_state' : [1,'RandomState',None]\n",
    "\n",
    "}"
   ]
  },
  {
   "cell_type": "code",
   "execution_count": 22,
   "metadata": {},
   "outputs": [
    {
     "name": "stdout",
     "output_type": "stream",
     "text": [
      "Fitting 3 folds for each of 72 candidates, totalling 216 fits\n"
     ]
    },
    {
     "name": "stderr",
     "output_type": "stream",
     "text": [
      "C:\\Users\\mmari\\anaconda3\\lib\\site-packages\\sklearn\\model_selection\\_search.py:918: UserWarning: One or more of the test scores are non-finite: [0.94933333        nan 0.94933333 0.952             nan 0.952\n",
      " 0.95333333        nan 0.95333333 0.876             nan 0.876\n",
      " 0.87066667        nan 0.87066667 0.92666667        nan 0.92666667\n",
      "        nan        nan        nan        nan        nan        nan\n",
      "        nan        nan        nan        nan        nan        nan\n",
      "        nan        nan        nan        nan        nan        nan\n",
      " 0.95333333        nan 0.95333333 0.95066667        nan 0.95066667\n",
      " 0.94533333        nan 0.94533333 0.924             nan 0.924\n",
      " 0.94133333        nan 0.94133333 0.93866667        nan 0.93733333\n",
      " 0.63066667        nan 0.63066667 0.79333333        nan 0.79333333\n",
      " 0.804             nan 0.81466667 0.79866667        nan 0.796\n",
      " 0.79866667        nan 0.796      0.79866667        nan 0.78266667]\n",
      "  warnings.warn(\n"
     ]
    },
    {
     "data": {
      "text/plain": [
       "GridSearchCV(cv=3, estimator=AdaBoostClassifier(), n_jobs=4,\n",
       "             param_grid={'algorithm': ['SAMME', 'SAMME.R'],\n",
       "                         'learning_rate': [1, 2, 3, 4],\n",
       "                         'n_estimators': [30, 50, 70],\n",
       "                         'random_state': [1, 'RandomState', None]},\n",
       "             verbose=2)"
      ]
     },
     "execution_count": 22,
     "metadata": {},
     "output_type": "execute_result"
    }
   ],
   "source": [
    "rfGrid = GridSearchCV(estimator=rf_model,param_grid=param_grid, cv=3, verbose = 2, n_jobs=4)\n",
    "\n",
    "rfGrid.fit(features_train,labels_train)"
   ]
  },
  {
   "cell_type": "code",
   "execution_count": 23,
   "metadata": {},
   "outputs": [
    {
     "name": "stdout",
     "output_type": "stream",
     "text": [
      "{'algorithm': 'SAMME', 'learning_rate': 1, 'n_estimators': 70, 'random_state': 1}\n",
      "0.9533333333333333\n",
      "0.924\n"
     ]
    }
   ],
   "source": [
    "print(rfGrid.best_params_)\n",
    "\n",
    "print(rfGrid.best_score_)\n",
    "print(rfGrid.score(features_test,labels_test))"
   ]
  }
 ],
 "metadata": {
  "interpreter": {
   "hash": "2b4ae81d3541185e4b78110f0912561ad63f406bbfd0da2f5682c3b5390879a0"
  },
  "kernelspec": {
   "display_name": "Python 3.8.8 64-bit ('base': conda)",
   "language": "python",
   "name": "python3"
  },
  "language_info": {
   "codemirror_mode": {
    "name": "ipython",
    "version": 3
   },
   "file_extension": ".py",
   "mimetype": "text/x-python",
   "name": "python",
   "nbconvert_exporter": "python",
   "pygments_lexer": "ipython3",
   "version": "3.8.8"
  },
  "orig_nbformat": 4
 },
 "nbformat": 4,
 "nbformat_minor": 2
}
